{
  "cells": [
    {
      "cell_type": "markdown",
      "metadata": {
        "id": "mLwkBZb-eVO9"
      },
      "source": [
        "# Session 1\n",
        "- Happy learning!"
      ]
    },
    {
      "cell_type": "markdown",
      "metadata": {
        "id": "T4vSOMgAeVO-"
      },
      "source": [
        "## Challenge 1 - Numbers"
      ]
    },
    {
      "cell_type": "markdown",
      "metadata": {
        "id": "tq4mMrEyeVO-"
      },
      "source": [
        "### Take two numbers and compute the power (a^b) and modulus (a % b)."
      ]
    },
    {
      "cell_type": "code",
      "execution_count": 1,
      "metadata": {
        "colab": {
          "base_uri": "https://localhost:8080/"
        },
        "id": "CuoZbdqXeVO-",
        "outputId": "68b791a0-90f6-4a40-8794-ee9af8accd22"
      },
      "outputs": [
        {
          "output_type": "stream",
          "name": "stdout",
          "text": [
            "Enter the base number (a): 3\n",
            "Enter the modulus number (b): 4\n",
            "3 raised to the power 4 is: 81\n",
            "The modulus of 3 % 4 is: 3\n"
          ]
        }
      ],
      "source": [
        "a = int(input(\"Enter the base number (a): \"))\n",
        "b = int(input(\"Enter the modulus number (b): \"))\n",
        "\n",
        "power = a ** b\n",
        "modulus = a % b\n",
        "\n",
        "print(f\"{a} raised to the power {b} is: {power}\")\n",
        "print(f\"The modulus of {a} % {b} is: {modulus}\")\n",
        "\n",
        "# We use '**' for power calculation and '%' for modulus operation.\n",
        "# Both require numeric types (int here) for correct calculation."
      ]
    },
    {
      "cell_type": "markdown",
      "metadata": {
        "id": "GTQqqr6oeVO_"
      },
      "source": [
        "### Show the difference between // and / using user input."
      ]
    },
    {
      "cell_type": "code",
      "execution_count": 3,
      "metadata": {
        "colab": {
          "base_uri": "https://localhost:8080/"
        },
        "id": "HG3eFdtweVO_",
        "outputId": "60af6c5d-3fca-4527-e4b0-554e6280c171"
      },
      "outputs": [
        {
          "output_type": "stream",
          "name": "stdout",
          "text": [
            "Enter the numerator (num1): 6\n",
            "Enter the denominator (num2): 2\n",
            "6.0 / 2.0 (True division) = 3.0\n",
            "6.0 // 2.0 (Floor division) = 3.0\n"
          ]
        }
      ],
      "source": [
        "num1 = float(input(\"Enter the numerator (num1): \"))\n",
        "num2 = float(input(\"Enter the denominator (num2): \"))\n",
        "\n",
        "true_division = num1 / num2\n",
        "floor_division = num1 // num2\n",
        "\n",
        "print(f\"{num1} / {num2} (True division) = {true_division}\")\n",
        "print(f\"{num1} // {num2} (Floor division) = {floor_division}\")\n",
        "\n",
        "# '/' gives the exact division result (float),\n",
        "# '//' gives the quotient after removing the decimal part (floor of division)."
      ]
    },
    {
      "cell_type": "markdown",
      "metadata": {
        "id": "O1kLQ_YXeVO_"
      },
      "source": [
        "### Bitwise Operator Practice\n",
        "Use &, |, ^, ~, <<, and >> on two integers and display the results."
      ]
    },
    {
      "cell_type": "code",
      "execution_count": 5,
      "metadata": {
        "colab": {
          "base_uri": "https://localhost:8080/"
        },
        "id": "nFGum_5NeVO_",
        "outputId": "76a50ad5-cdf2-4fb7-f48c-826a088ae28e"
      },
      "outputs": [
        {
          "output_type": "stream",
          "name": "stdout",
          "text": [
            "Enter first integer (a): 5 \n",
            "Enter second integer (b): 3\n",
            "a & b = 1\n",
            "a | b = 7\n",
            "a ^ b = 6\n",
            "~a = -6\n",
            "~b = -4\n",
            "a << 1 = 10\n",
            "b << 1 = 6\n",
            "a >> 1 = 2\n",
            "b >> 1 = 1\n"
          ]
        }
      ],
      "source": [
        "a = int(input(\"Enter first integer (a): \"))\n",
        "b = int(input(\"Enter second integer (b): \"))\n",
        "\n",
        "# Bitwise AND\n",
        "and_result = a & b\n",
        "\n",
        "# Bitwise OR\n",
        "or_result = a | b\n",
        "\n",
        "# Bitwise XOR\n",
        "xor_result = a ^ b\n",
        "\n",
        "# Bitwise NOT (Complement) on a and b\n",
        "not_a = ~a\n",
        "not_b = ~b\n",
        "\n",
        "# Bitwise left shift\n",
        "left_shift_a = a << 1\n",
        "left_shift_b = b << 1\n",
        "\n",
        "# Bitwise right shift\n",
        "right_shift_a = a >> 1\n",
        "right_shift_b = b >> 1\n",
        "\n",
        "# Print all results\n",
        "print(f\"a & b = {and_result}\")\n",
        "print(f\"a | b = {or_result}\")\n",
        "print(f\"a ^ b = {xor_result}\")\n",
        "print(f\"~a = {not_a}\")\n",
        "print(f\"~b = {not_b}\")\n",
        "print(f\"a << 1 = {left_shift_a}\")\n",
        "print(f\"b << 1 = {left_shift_b}\")\n",
        "print(f\"a >> 1 = {right_shift_a}\")\n",
        "print(f\"b >> 1 = {right_shift_b}\")\n",
        "\n",
        "# & : bitwise AND, | : bitwise OR, ^ : bitwise XOR\n",
        "# ~ : bitwise NOT (inversion)\n",
        "# << : left shift (multiply by powers of 2)\n",
        "# >> : right shift (divide by powers of 2)\n"
      ]
    },
    {
      "cell_type": "markdown",
      "metadata": {
        "id": "esWG69VceVO_"
      },
      "source": [
        "### Round Up, Down, and Nearest Integer\n",
        "Use math.floor(), math.ceil(), and round() on a floating point number.\n",
        "\n"
      ]
    },
    {
      "cell_type": "code",
      "execution_count": 6,
      "metadata": {
        "colab": {
          "base_uri": "https://localhost:8080/"
        },
        "id": "CRkmZP4veVO_",
        "outputId": "3b3cb6b0-1721-44cd-956e-351c13b204a5"
      },
      "outputs": [
        {
          "output_type": "stream",
          "name": "stdout",
          "text": [
            "Enter a floating point number: 4.5\n",
            "math.floor(4.5) = 4\n",
            "math.ceil(4.5) = 5\n",
            "round(4.5) = 4\n"
          ]
        }
      ],
      "source": [
        "import math\n",
        "\n",
        "# Take a floating point number as input from the user\n",
        "num = float(input(\"Enter a floating point number: \"))\n",
        "\n",
        "# Round down to the nearest integer (floor)\n",
        "rounded_down = math.floor(num)\n",
        "\n",
        "# Round up to the nearest integer (ceil)\n",
        "rounded_up = math.ceil(num)\n",
        "\n",
        "# Round to the nearest integer (round)\n",
        "rounded_nearest = round(num)\n",
        "\n",
        "# Print the results\n",
        "print(f\"math.floor({num}) = {rounded_down}\")\n",
        "print(f\"math.ceil({num}) = {rounded_up}\")\n",
        "print(f\"round({num}) = {rounded_nearest}\")\n",
        "\n",
        "# math.floor() always rounds down,\n",
        "# math.ceil() always rounds up,\n",
        "# round() rounds to the nearest integer based on decimal part.\n"
      ]
    },
    {
      "cell_type": "markdown",
      "metadata": {
        "id": "uOBHr9vyeVO_"
      },
      "source": [
        "## Challenge 2 -  Strings\n",
        "\n",
        "Combining strings is an important skill to acquire. There are multiple ways of combining strings in Python, as well as combining strings with variables."
      ]
    },
    {
      "cell_type": "markdown",
      "metadata": {
        "id": "IvWSVtI6eVO_"
      },
      "source": [
        "### In the cell below, combine the strings in the list and add spaces between the strings (do not add a space after the last string). Insert a period after the last string."
      ]
    },
    {
      "cell_type": "code",
      "execution_count": null,
      "metadata": {
        "id": "q6YKZSAkeVO_"
      },
      "outputs": [],
      "source": [
        "str_list = ['Data', 'are', 'just', 'summaries', 'of', 'thousands', 'of', 'stories', '—','tell', 'a', 'few', 'of', 'those', 'stories', 'to',  'help', 'make', 'the', 'data', 'meaningful','.']\n",
        "\n"
      ]
    },
    {
      "cell_type": "markdown",
      "metadata": {
        "id": "zenNg04CeVPA"
      },
      "source": [
        "In the cell below, use the list of strings to create a grocery list. Start the list with the string `Grocery list: ` and include a comma and a space between each item except for the last one. Include a period at the end. Only include foods in the list that start with the letter 'b' and ensure all foods are lower case."
      ]
    },
    {
      "cell_type": "code",
      "execution_count": 8,
      "metadata": {
        "colab": {
          "base_uri": "https://localhost:8080/"
        },
        "id": "4CEhmN7SeVPA",
        "outputId": "4f8f8419-0e7f-4602-925f-979adfad8bc8"
      },
      "outputs": [
        {
          "output_type": "stream",
          "name": "stdout",
          "text": [
            "Grocery list: bananas, bread, brownie mix, broccoli.\n"
          ]
        }
      ],
      "source": [
        "food_list = ['Bananas', 'Chocolate', 'bread', 'diapers', 'Ice Cream', 'Brownie Mix', 'broccoli']\n",
        "\n",
        "b_foods = [food.lower() for food in food_list if food.lower().startswith('b')]\n",
        "\n",
        "grocery_list = \"Grocery list: \" + \", \".join(b_foods) + \".\"\n",
        "\n",
        "print(grocery_list)\n",
        "\n",
        "# 1. Use list comprehension to filter items starting with 'b' (case-insensitive).\n",
        "# 2. Convert all filtered items to lowercase.\n",
        "# 3. Join filtered items with ', ' and add a period at the end."
      ]
    },
    {
      "cell_type": "markdown",
      "metadata": {
        "id": "quseYaFMeVPA"
      },
      "source": [
        "### Splitting Strings\n",
        "\n",
        "We have first looked at combining strings into one long string. There are times where we need to do the opposite and split the string into smaller components for further analysis.\n",
        "\n",
        "In the cell below, split the string into a list of strings using the space delimiter. Count the frequency of each word in the string in a dictionary. Strip the periods, line breaks and commas from the text. Make sure to remove empty strings from your dictionary."
      ]
    },
    {
      "cell_type": "code",
      "execution_count": 9,
      "metadata": {
        "colab": {
          "base_uri": "https://localhost:8080/"
        },
        "id": "MQCYPe6seVPA",
        "outputId": "3f8db3ff-9178-44ac-bc91-27831c2e4e0a"
      },
      "outputs": [
        {
          "output_type": "stream",
          "name": "stdout",
          "text": [
            "{'some': 2, 'say': 3, 'the': 1, 'world': 1, 'will': 1, 'end': 1, 'in': 2, 'fire': 2, 'ice': 2, 'from': 1, 'what': 1, 'i’ve': 1, 'tasted': 1, 'of': 2, 'desire': 1, 'i': 3, 'hold': 1, 'with': 1, 'those': 1, 'who': 1, 'favor': 1, 'but': 1, 'if': 1, 'it': 1, 'had': 1, 'to': 2, 'perish': 1, 'twice': 1, 'think': 1, 'know': 1, 'enough': 1, 'hate': 1, 'that': 1, 'for': 1, 'destruction': 1, 'is': 1, 'also': 1, 'great': 1, 'and': 1, 'would': 1, 'suffice': 1}\n"
          ]
        }
      ],
      "source": [
        "import string\n",
        "poem = \"\"\"Some say the world will end in fire,\n",
        "Some say in ice.\n",
        "From what I’ve tasted of desire\n",
        "I hold with those who favor fire.\n",
        "But if it had to perish twice,\n",
        "I think I know enough of hate\n",
        "To say that for destruction ice\n",
        "Is also great\n",
        "And would suffice.\"\"\"\n",
        "\n",
        "cleaned_poem = poem.lower().replace('\\n', ' ')\n",
        "\n",
        "for punct in string.punctuation:\n",
        "    cleaned_poem = cleaned_poem.replace(punct, '')\n",
        "\n",
        "words = cleaned_poem.split(' ')\n",
        "\n",
        "word_freq = {}\n",
        "for word in words:\n",
        "    if word != '':\n",
        "        word_freq[word] = word_freq.get(word, 0) + 1\n",
        "\n",
        "print(word_freq)\n",
        "\n",
        "# 1. Convert to lowercase to count words case-insensitively.\n",
        "# 2. Replace line breaks with spaces.\n",
        "# 3. Remove punctuation using string.punctuation.\n",
        "# 4. Split by space and ignore empty strings.\n",
        "# 5. Count frequencies using a dictionary."
      ]
    }
  ],
  "metadata": {
    "kernelspec": {
      "display_name": "Python [conda env:base] *",
      "language": "python",
      "name": "conda-base-py"
    },
    "language_info": {
      "codemirror_mode": {
        "name": "ipython",
        "version": 3
      },
      "file_extension": ".py",
      "mimetype": "text/x-python",
      "name": "python",
      "nbconvert_exporter": "python",
      "pygments_lexer": "ipython3",
      "version": "3.12.7"
    },
    "varInspector": {
      "cols": {
        "lenName": 16,
        "lenType": 16,
        "lenVar": 40
      },
      "kernels_config": {
        "python": {
          "delete_cmd_postfix": "",
          "delete_cmd_prefix": "del ",
          "library": "var_list.py",
          "varRefreshCmd": "print(var_dic_list())"
        },
        "r": {
          "delete_cmd_postfix": ") ",
          "delete_cmd_prefix": "rm(",
          "library": "var_list.r",
          "varRefreshCmd": "cat(var_dic_list()) "
        }
      },
      "types_to_exclude": [
        "module",
        "function",
        "builtin_function_or_method",
        "instance",
        "_Feature"
      ],
      "window_display": false
    },
    "colab": {
      "provenance": []
    }
  },
  "nbformat": 4,
  "nbformat_minor": 0
}
{
  "cells": [
    {
      "cell_type": "markdown",
      "metadata": {
        "id": "pG0Bt0ILhdD5"
      },
      "source": [
        "## Challenge 1: Tuples\n",
        "\n",
        "#### Do you know you can create tuples with only one element?\n",
        "\n",
        "**In the cell below, define a variable `tup` with a single element `\"I\"`.**\n",
        "\n",
        "*Hint: you need to add a comma (`,`) after the single element.*"
      ]
    },
    {
      "cell_type": "code",
      "execution_count": 2,
      "metadata": {
        "colab": {
          "base_uri": "https://localhost:8080/"
        },
        "id": "ltpxWaoWhdD7",
        "outputId": "4fe4d631-adc1-4040-b2b4-5362c760bde2"
      },
      "outputs": [
        {
          "output_type": "stream",
          "name": "stdout",
          "text": [
            "('I',)\n"
          ]
        }
      ],
      "source": [
        "tup = (\"I\",)\n",
        "\n",
        "print(tup)"
      ]
    },
    {
      "cell_type": "markdown",
      "metadata": {
        "id": "hH_532iEhdD7"
      },
      "source": [
        "#### Print the type of `tup`.\n",
        "\n",
        "Make sure its type is correct (i.e. *tuple* instead of *str*)."
      ]
    },
    {
      "cell_type": "code",
      "execution_count": 3,
      "metadata": {
        "colab": {
          "base_uri": "https://localhost:8080/"
        },
        "id": "mj_7PrdLhdD7",
        "outputId": "ffe1ac25-54b8-4da9-d2b8-643a374f20a9"
      },
      "outputs": [
        {
          "output_type": "stream",
          "name": "stdout",
          "text": [
            "<class 'tuple'>\n"
          ]
        }
      ],
      "source": [
        "print(type(tup))  # Confirm it is a tuple"
      ]
    },
    {
      "cell_type": "markdown",
      "metadata": {
        "id": "dwOyjvOkhdD7"
      },
      "source": [
        "#### Now try to append the following elements to `tup`.\n",
        "\n",
        "Are you able to do it? Explain.\n",
        "\n",
        "```\n",
        "\"r\", \"o\", \"n\", \"h\", \"a\", \"c\", \"k',\n",
        "```"
      ]
    },
    {
      "cell_type": "code",
      "execution_count": 4,
      "metadata": {
        "colab": {
          "base_uri": "https://localhost:8080/"
        },
        "id": "k_TtoXOahdD8",
        "outputId": "20b721b9-f6a0-4a9a-861d-9817f7d67723"
      },
      "outputs": [
        {
          "output_type": "stream",
          "name": "stdout",
          "text": [
            "('I', 'r', 'o', 'n', 'h', 'a', 'c', 'k')\n"
          ]
        }
      ],
      "source": [
        "tup = (\"I\",)\n",
        "new_elements = (\"r\", \"o\", \"n\", \"h\", \"a\", \"c\", \"k\")\n",
        "\n",
        "tup = tup + new_elements\n",
        "print(tup)\n",
        "\n",
        "\n",
        "# Your explanation here\n",
        "# Tuples are immutable, so you cannot append or change them directly.\n",
        "# To add elements, you must create a new tuple by concatenation."
      ]
    },
    {
      "cell_type": "markdown",
      "metadata": {
        "id": "fOeAWJJMhdD8"
      },
      "source": [
        "#### How about re-assign a new value to an existing tuple?\n",
        "\n",
        "Re-assign the following elements to `tup`. Are you able to do it? Explain.\n",
        "\n",
        "```\n",
        "\"I\", \"r\", \"o\", \"n\", \"h\", \"a\", \"c\", \"k\"\n",
        "```"
      ]
    },
    {
      "cell_type": "code",
      "execution_count": 5,
      "metadata": {
        "colab": {
          "base_uri": "https://localhost:8080/"
        },
        "id": "3bq9GoGkhdD8",
        "outputId": "37c0ff39-5ab7-4ecf-eba3-a9cc15937d6c"
      },
      "outputs": [
        {
          "output_type": "stream",
          "name": "stdout",
          "text": [
            "('I', 'r', 'o', 'n', 'h', 'a', 'c', 'k')\n"
          ]
        }
      ],
      "source": [
        "tup = (\"I\", \"r\", \"o\", \"n\", \"h\", \"a\", \"c\", \"k\")\n",
        "\n",
        "print(tup)\n",
        "\n",
        "# Your explanation here\n",
        "# Yes, we can re-assign a new tuple to the variable 'tup'.\n",
        "# Re-assignment means binding the variable name to a completely new tuple.\n",
        "# This does not modify the original tuple but creates a new one and points tup to it."
      ]
    },
    {
      "cell_type": "markdown",
      "metadata": {
        "id": "LVbid_rohdD8"
      },
      "source": [
        "#### Split `tup` into `tup1` and `tup2` with 4 elements in each.\n",
        "\n",
        "`tup1` should be `(\"I\", \"r\", \"o\", \"n\")` and `tup2` should be `(\"h\", \"a\", \"c\", \"k\")`.\n",
        "\n",
        "*Hint: use positive index numbers for `tup1` assignment and use negative index numbers for `tup2` assignment. Positive index numbers count from the beginning whereas negative index numbers count from the end of the sequence.*\n",
        "\n",
        "Also print `tup1` and `tup2`."
      ]
    },
    {
      "cell_type": "code",
      "execution_count": 6,
      "metadata": {
        "colab": {
          "base_uri": "https://localhost:8080/"
        },
        "id": "4a2STJ9RhdD8",
        "outputId": "4832f6b7-b5b1-4d39-d271-aae1fb01d8a9"
      },
      "outputs": [
        {
          "output_type": "stream",
          "name": "stdout",
          "text": [
            "('I', 'r', 'o', 'n')\n",
            "('h', 'a', 'c', 'k')\n"
          ]
        }
      ],
      "source": [
        "tup = (\"I\", \"r\", \"o\", \"n\", \"h\", \"a\", \"c\", \"k\")\n",
        "\n",
        "tup1 = tup[0:4]\n",
        "\n",
        "tup2 = tup[-4:]\n",
        "\n",
        "print(tup1)\n",
        "print(tup2)\n",
        "\n",
        "# Positive indices count from the start (0 to n-1).\n",
        "# Negative indices count backward from the end (-1 is last element).\n",
        "# You can use slicing to get parts of the tuple."
      ]
    },
    {
      "cell_type": "markdown",
      "metadata": {
        "id": "pQKOG-DUhdD8"
      },
      "source": [
        "#### Add `tup1` and `tup2` into `tup3` using the `+` operator.\n",
        "\n",
        "Then print `tup3` and check if `tup3` equals to `tup`."
      ]
    },
    {
      "cell_type": "code",
      "execution_count": 7,
      "metadata": {
        "colab": {
          "base_uri": "https://localhost:8080/"
        },
        "id": "oB_0LEiphdD8",
        "outputId": "c14eb723-5571-4018-b1cf-5d6cf99bf2d7"
      },
      "outputs": [
        {
          "output_type": "stream",
          "name": "stdout",
          "text": [
            "('I', 'r', 'o', 'n', 'h', 'a', 'c', 'k')\n",
            "True\n"
          ]
        }
      ],
      "source": [
        "tup1 = (\"I\", \"r\", \"o\", \"n\")\n",
        "tup2 = (\"h\", \"a\", \"c\", \"k\")\n",
        "\n",
        "tup3 = tup1 + tup2\n",
        "\n",
        "print(tup3)\n",
        "\n",
        "print(tup3 == (\"I\", \"r\", \"o\", \"n\", \"h\", \"a\", \"c\", \"k\"))\n",
        "\n",
        "# Using + operator concatenates tuples.\n",
        "# If elements and order match, tup3 equals tup."
      ]
    },
    {
      "cell_type": "markdown",
      "metadata": {
        "id": "6vgLKSd5hdD8"
      },
      "source": [
        "#### Count the number of elements in `tup1` and `tup2`. Then add the two counts together and check if the sum is the same as the number of elements in `tup3`."
      ]
    },
    {
      "cell_type": "code",
      "execution_count": 9,
      "metadata": {
        "colab": {
          "base_uri": "https://localhost:8080/"
        },
        "id": "5H07kGTlhdD8",
        "outputId": "41e78bf1-1627-4674-af6b-ca7917dd2d86"
      },
      "outputs": [
        {
          "output_type": "stream",
          "name": "stdout",
          "text": [
            "Count of tup1: 4\n",
            "Count of tup2: 4\n",
            "Sum of counts: 8\n",
            "Count of tup3: 8\n",
            "True\n"
          ]
        }
      ],
      "source": [
        "tup1 = (\"I\", \"r\", \"o\", \"n\")\n",
        "tup2 = (\"h\", \"a\", \"c\", \"k\")\n",
        "tup3 = tup1 + tup2\n",
        "\n",
        "count_tup1 = len(tup1)\n",
        "count_tup2 = len(tup2)\n",
        "\n",
        "total_count = count_tup1 + count_tup2\n",
        "\n",
        "count_tup3 = len(tup3)\n",
        "\n",
        "print(\"Count of tup1:\", count_tup1)\n",
        "print(\"Count of tup2:\", count_tup2)\n",
        "print(\"Sum of counts:\", total_count)\n",
        "print(\"Count of tup3:\", count_tup3)\n",
        "\n",
        "print(total_count == count_tup3)  # Output: True\n",
        "\n",
        "# The sum of elements in tup1 and tup2 equals the total elements in tup3.\n",
        "# This confirms that concatenation joins all elements without loss."
      ]
    },
    {
      "cell_type": "markdown",
      "metadata": {
        "id": "j4a4ecU7hdD9"
      },
      "source": [
        "#### What is the index number of `\"h\"` in `tup3`?"
      ]
    },
    {
      "cell_type": "code",
      "execution_count": 10,
      "metadata": {
        "colab": {
          "base_uri": "https://localhost:8080/"
        },
        "id": "3PXXi_lghdD9",
        "outputId": "1a054114-2543-4c12-cda2-df1a4f3b6132"
      },
      "outputs": [
        {
          "output_type": "stream",
          "name": "stdout",
          "text": [
            "4\n"
          ]
        }
      ],
      "source": [
        "tup3 = (\"I\", \"r\", \"o\", \"n\", \"h\", \"a\", \"c\", \"k\")\n",
        "\n",
        "index_h = tup3.index(\"h\")\n",
        "\n",
        "print(index_h)\n",
        "\n",
        "# The index() method returns the first occurrence of the value in the tuple.\n",
        "# Here, \"h\" is at position 4 (0-based indexing)."
      ]
    },
    {
      "cell_type": "markdown",
      "metadata": {
        "id": "0w2CWFH9hdD9"
      },
      "source": [
        "#### Now, use a FOR loop to check whether each letter in the following list is present in `tup3`:\n",
        "\n",
        "```\n",
        "letters = [\"a\", \"b\", \"c\", \"d\", \"e\"]\n",
        "```\n",
        "\n",
        "For each letter you check, print `True` if it is present in `tup3` otherwise print `False`.\n",
        "\n",
        "*Hint: you only need to loop `letters`. You don't need to loop `tup3` because there is a Python operator `in` you can use. See [reference](https://stackoverflow.com/questions/17920147/how-to-check-if-a-tuple-contains-an-element-in-python).*"
      ]
    },
    {
      "cell_type": "code",
      "execution_count": 11,
      "metadata": {
        "colab": {
          "base_uri": "https://localhost:8080/"
        },
        "id": "aTQr4o54hdD9",
        "outputId": "f4fd93c2-c35c-4da0-aecb-84a120d40eaf"
      },
      "outputs": [
        {
          "output_type": "stream",
          "name": "stdout",
          "text": [
            "True\n",
            "False\n",
            "True\n",
            "False\n",
            "False\n"
          ]
        }
      ],
      "source": [
        "tup3 = (\"I\", \"r\", \"o\", \"n\", \"h\", \"a\", \"c\", \"k\")\n",
        "letters = [\"a\", \"b\", \"c\", \"d\", \"e\"]\n",
        "\n",
        "for letter in letters:\n",
        "    if letter in tup3:\n",
        "        print(True)\n",
        "    else:\n",
        "        print(False)\n",
        "\n",
        "# The 'in' operator checks membership efficiently.\n",
        "# Looping over letters lets us test each one against tup3."
      ]
    },
    {
      "cell_type": "markdown",
      "metadata": {
        "id": "sdnPkdt2hdD9"
      },
      "source": [
        "#### How many times does each letter in `letters` appear in `tup3`?\n",
        "\n",
        "Print out the number of occurrence of each letter."
      ]
    },
    {
      "cell_type": "code",
      "execution_count": 12,
      "metadata": {
        "colab": {
          "base_uri": "https://localhost:8080/"
        },
        "id": "tBOlQh9RhdD9",
        "outputId": "eb68f16e-e0e8-4059-8ca5-617ec05f1eed"
      },
      "outputs": [
        {
          "output_type": "stream",
          "name": "stdout",
          "text": [
            "'a' appears 1 time(s) in tup3.\n",
            "'b' appears 0 time(s) in tup3.\n",
            "'c' appears 1 time(s) in tup3.\n",
            "'d' appears 0 time(s) in tup3.\n",
            "'e' appears 0 time(s) in tup3.\n"
          ]
        }
      ],
      "source": [
        "tup3 = (\"I\", \"r\", \"o\", \"n\", \"h\", \"a\", \"c\", \"k\")\n",
        "letters = [\"a\", \"b\", \"c\", \"d\", \"e\"]\n",
        "\n",
        "for letter in letters:\n",
        "    count = tup3.count(letter)\n",
        "    print(f\"'{letter}' appears {count} time(s) in tup3.\")\n",
        "\n",
        "# The count() method returns how many times an element appears in a tuple.\n",
        "# Useful for frequency analysis in sequences like tuples."
      ]
    }
  ],
  "metadata": {
    "kernelspec": {
      "display_name": "Python 3",
      "language": "python",
      "name": "python3"
    },
    "language_info": {
      "codemirror_mode": {
        "name": "ipython",
        "version": 3
      },
      "file_extension": ".py",
      "mimetype": "text/x-python",
      "name": "python",
      "nbconvert_exporter": "python",
      "pygments_lexer": "ipython3",
      "version": "3.7.2"
    },
    "colab": {
      "provenance": []
    }
  },
  "nbformat": 4,
  "nbformat_minor": 0
}
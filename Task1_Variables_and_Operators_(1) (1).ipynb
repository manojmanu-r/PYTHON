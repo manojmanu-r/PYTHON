{
  "nbformat": 4,
  "nbformat_minor": 0,
  "metadata": {
    "colab": {
      "provenance": []
    },
    "kernelspec": {
      "name": "python3",
      "display_name": "Python 3"
    },
    "language_info": {
      "name": "python"
    }
  },
  "cells": [
    {
      "cell_type": "markdown",
      "source": [
        "Answer each question by doing some operations with Python. Put conclusion in the comments"
      ],
      "metadata": {
        "id": "cv_Fhgw93Ns6"
      }
    },
    {
      "cell_type": "markdown",
      "source": [
        "1.1 For the following variables, use the function type() from Python to check the data type for the variables."
      ],
      "metadata": {
        "id": "jpb5_rvZiMrg"
      }
    },
    {
      "cell_type": "code",
      "source": [
        "x1 = 1.1\n",
        "x2 = \"Monday\"\n",
        "x3 = \"1.1\"\n",
        "x4 = True\n",
        "x5 = \"True\"\n",
        "x6 = -1"
      ],
      "metadata": {
        "id": "n_OE28mlhHr4"
      },
      "execution_count": 1,
      "outputs": []
    },
    {
      "cell_type": "markdown",
      "source": [
        "1.2 What is the difference between variables x1 and x3?"
      ],
      "metadata": {
        "id": "myLT2Hq_hbN2"
      }
    },
    {
      "cell_type": "code",
      "source": [
        "# type(x1)\n",
        "print(\"x1:\", type(x1))\n",
        "\n",
        "# x1 is a float (numeric value), whereas x3 is a string (text) representation of the number."
      ],
      "metadata": {
        "colab": {
          "base_uri": "https://localhost:8080/"
        },
        "id": "kWFnsC8EhTEH",
        "outputId": "a1804cc3-fb2b-4d6e-971a-b8b62c2a48cb"
      },
      "execution_count": 3,
      "outputs": [
        {
          "output_type": "stream",
          "name": "stdout",
          "text": [
            "x1: <class 'float'>\n",
            "x3: <class 'str'>\n"
          ]
        }
      ]
    },
    {
      "cell_type": "code",
      "source": [
        "print(\"x3:\", type(x3))"
      ],
      "metadata": {
        "colab": {
          "base_uri": "https://localhost:8080/"
        },
        "id": "c19WZD4Fh6Ea",
        "outputId": "ef64a5a0-d010-40e8-8f2c-6066ecea7d82"
      },
      "execution_count": 8,
      "outputs": [
        {
          "output_type": "stream",
          "name": "stdout",
          "text": [
            "x3: <class 'str'>\n"
          ]
        }
      ]
    },
    {
      "cell_type": "markdown",
      "source": [
        "1.3 What happens if you subtract x3 from x1?"
      ],
      "metadata": {
        "id": "XCAcLsbGiC7Z"
      }
    },
    {
      "cell_type": "code",
      "source": [
        "x1 = 1.1\n",
        "x3 = \"1.1\"\n",
        "\n",
        "result = x1 - x3\n",
        "\n",
        "#You cannot subtract a string (x3) from a float (x1) directly because they are of different data types."
      ],
      "metadata": {
        "colab": {
          "base_uri": "https://localhost:8080/",
          "height": 211
        },
        "id": "VotvglskNG3o",
        "outputId": "00bad027-c5af-4ac4-f564-a5f52654748f"
      },
      "execution_count": 4,
      "outputs": [
        {
          "output_type": "error",
          "ename": "TypeError",
          "evalue": "unsupported operand type(s) for -: 'float' and 'str'",
          "traceback": [
            "\u001b[0;31m---------------------------------------------------------------------------\u001b[0m",
            "\u001b[0;31mTypeError\u001b[0m                                 Traceback (most recent call last)",
            "\u001b[0;32m/tmp/ipython-input-4-3302132229.py\u001b[0m in \u001b[0;36m<cell line: 0>\u001b[0;34m()\u001b[0m\n\u001b[1;32m      3\u001b[0m \u001b[0;34m\u001b[0m\u001b[0m\n\u001b[1;32m      4\u001b[0m \u001b[0;31m# Attempting to subtract x3 from x1\u001b[0m\u001b[0;34m\u001b[0m\u001b[0;34m\u001b[0m\u001b[0m\n\u001b[0;32m----> 5\u001b[0;31m \u001b[0mresult\u001b[0m \u001b[0;34m=\u001b[0m \u001b[0mx1\u001b[0m \u001b[0;34m-\u001b[0m \u001b[0mx3\u001b[0m\u001b[0;34m\u001b[0m\u001b[0;34m\u001b[0m\u001b[0m\n\u001b[0m\u001b[1;32m      6\u001b[0m \u001b[0;34m\u001b[0m\u001b[0m\n\u001b[1;32m      7\u001b[0m \u001b[0;31m#You cannot subtract a string (x3) from a float (x1) directly because they are of different data types.\u001b[0m\u001b[0;34m\u001b[0m\u001b[0;34m\u001b[0m\u001b[0m\n",
            "\u001b[0;31mTypeError\u001b[0m: unsupported operand type(s) for -: 'float' and 'str'"
          ]
        }
      ]
    },
    {
      "cell_type": "markdown",
      "source": [
        "1.4 What is the difference between variables x4 and x5?"
      ],
      "metadata": {
        "id": "y8Pj77kFNcYx"
      }
    },
    {
      "cell_type": "code",
      "source": [
        "print(\"x4:\", type(x4))\n",
        "# x4 is a Boolean (bool), meaning it represents a logical value: True or False."
      ],
      "metadata": {
        "id": "kS0gIFYgNaB5",
        "colab": {
          "base_uri": "https://localhost:8080/"
        },
        "outputId": "5f737f82-b6a4-4138-b0bd-860b8f89cb8c"
      },
      "execution_count": 6,
      "outputs": [
        {
          "output_type": "stream",
          "name": "stdout",
          "text": [
            "x4: <class 'bool'>\n"
          ]
        }
      ]
    },
    {
      "cell_type": "code",
      "source": [
        "print(\"x5:\", type(x5))\n",
        "# x5 is a String (str), meaning it is just the text \"True\" and NOT a Boolean."
      ],
      "metadata": {
        "colab": {
          "base_uri": "https://localhost:8080/"
        },
        "id": "aOgv5G75gJHR",
        "outputId": "fdf2cbf1-fa88-4fdb-ae81-fcc37bf9b9df"
      },
      "execution_count": 7,
      "outputs": [
        {
          "output_type": "stream",
          "name": "stdout",
          "text": [
            "x5: <class 'str'>\n"
          ]
        }
      ]
    },
    {
      "cell_type": "markdown",
      "source": [
        "1.5 What happens if you subtract x5 from x4?"
      ],
      "metadata": {
        "id": "pTdnO9sMgX5v"
      }
    },
    {
      "cell_type": "code",
      "source": [
        "# You cannot subtract a string (x5) from a Boolean (x4).\n",
        "# Python does not support arithmetic operations between different incompatible types like bool and str."
      ],
      "metadata": {
        "colab": {
          "base_uri": "https://localhost:8080/",
          "height": 183
        },
        "id": "sjwJ79qMgaTP",
        "outputId": "00c554b3-1909-48a7-9c11-a32ef68414fc"
      },
      "execution_count": null,
      "outputs": [
        {
          "output_type": "error",
          "ename": "TypeError",
          "evalue": "ignored",
          "traceback": [
            "\u001b[0;31m---------------------------------------------------------------------------\u001b[0m",
            "\u001b[0;31mTypeError\u001b[0m                                 Traceback (most recent call last)",
            "\u001b[0;32m<ipython-input-7-08285411ce0c>\u001b[0m in \u001b[0;36m<module>\u001b[0;34m\u001b[0m\n\u001b[0;32m----> 1\u001b[0;31m \u001b[0ma\u001b[0m\u001b[0;34m=\u001b[0m\u001b[0mx5\u001b[0m\u001b[0;34m-\u001b[0m\u001b[0mx4\u001b[0m\u001b[0;34m\u001b[0m\u001b[0;34m\u001b[0m\u001b[0m\n\u001b[0m\u001b[1;32m      2\u001b[0m \u001b[0mprint\u001b[0m\u001b[0;34m(\u001b[0m\u001b[0ma\u001b[0m\u001b[0;34m)\u001b[0m\u001b[0;34m\u001b[0m\u001b[0;34m\u001b[0m\u001b[0m\n",
            "\u001b[0;31mTypeError\u001b[0m: unsupported operand type(s) for -: 'str' and 'bool'"
          ]
        }
      ]
    },
    {
      "cell_type": "markdown",
      "source": [
        "2.1 To gather input from the user, we can use the function input(message), where “message” is a meaningful message of type str and will be displayed to the user."
      ],
      "metadata": {
        "id": "Y-o6hAK6hMxf"
      }
    },
    {
      "cell_type": "code",
      "source": [
        "name = input(\"Please enter your name: \")\n",
        "\n",
        "print(\"Hello,\", name)\n",
        "\n",
        "# The input() function is used to take input from the user.\n",
        "# The argument passed inside input() is a message of type str that is displayed as a prompt."
      ],
      "metadata": {
        "colab": {
          "base_uri": "https://localhost:8080/"
        },
        "id": "AZt-QrwnhPoQ",
        "outputId": "3727f2fe-f4b0-4494-9af5-c7e5c64a8b60"
      },
      "execution_count": 9,
      "outputs": [
        {
          "output_type": "stream",
          "name": "stdout",
          "text": [
            "Please enter your name: manoj\n",
            "Hello, manoj\n"
          ]
        }
      ]
    },
    {
      "cell_type": "markdown",
      "source": [
        "Question 1: Print the values of the two variables? As you might have noticed, data type of x1 and x2 is string. Even though we entered integers, the input function converts them into string by default. Now we do some data type conversion from string to integers:"
      ],
      "metadata": {
        "id": "M0Q6QAhYiBfM"
      }
    },
    {
      "cell_type": "code",
      "source": [
        "x1 = input(\"Enter the first number: \")\n",
        "x2 = input(\"Enter the second number: \")\n",
        "\n",
        "print(\"Value of x1:\", x1)\n",
        "print(\"Value of x2:\", x2)\n",
        "\n",
        "print(\"Type of x1 before conversion:\", type(x1))\n",
        "print(\"Type of x2 before conversion:\", type(x2))\n",
        "\n",
        "x1 = int(x1)\n",
        "x2 = int(x2)\n",
        "\n",
        "print(\"Type of x1 after conversion:\", type(x1))\n",
        "print(\"Type of x2 after conversion:\", type(x2))\n",
        "\n",
        "# Even though we entered numbers, input() stores them as strings.\n",
        "# We must use int() to convert them into integers before performing arithmetic operations."
      ],
      "metadata": {
        "id": "wFCOxdpDiDoL",
        "colab": {
          "base_uri": "https://localhost:8080/"
        },
        "outputId": "9a4d56a2-f1b3-4357-8d11-8f15f6d790d8"
      },
      "execution_count": 11,
      "outputs": [
        {
          "output_type": "stream",
          "name": "stdout",
          "text": [
            "Enter the first number: 5\n",
            "Enter the second number: 7\n",
            "Value of x1: 5\n",
            "Value of x2: 7\n",
            "Type of x1 before conversion: <class 'str'>\n",
            "Type of x2 before conversion: <class 'str'>\n",
            "Type of x1 after conversion: <class 'int'>\n",
            "Type of x2 after conversion: <class 'int'>\n"
          ]
        }
      ]
    },
    {
      "cell_type": "markdown",
      "source": [
        "Question 2: What is the data type of x1 and x2? Now perform simple comparisons between x1 and x2:\n",
        "\n",
        "Check if the two variables are equal?\n",
        "\n",
        "Check if x1 is greater than x2?\n",
        "\n",
        "Check if x2 is greater than x1?\n",
        "\n",
        "Check if x1 is not equal to x2?\n",
        "\n",
        "Store the difference between the two variables x1 and x2 in another variable x3 (subtract the smaller number from the larger number).\n",
        "\n",
        "Increment the smaller of the two variables (x1 and x2) with the difference.Use the shorthand addition operator for the same. Again check if x1 and x2 are equal or not?"
      ],
      "metadata": {
        "id": "QfPlBSqSibky"
      }
    },
    {
      "cell_type": "code",
      "source": [
        "x1 = 5\n",
        "x2 = 2\n",
        "\n",
        "# 1. Print the data types of x1 and x2\n",
        "print(\"Type of x1:\", type(x1))\n",
        "print(\"Type of x2:\", type(x2))"
      ],
      "metadata": {
        "colab": {
          "base_uri": "https://localhost:8080/"
        },
        "id": "vuWxpve4idyU",
        "outputId": "dd081294-de0b-4f25-c6c2-d2f7082fe519"
      },
      "execution_count": 12,
      "outputs": [
        {
          "output_type": "stream",
          "name": "stdout",
          "text": [
            "Type of x1: <class 'int'>\n",
            "Type of x2: <class 'int'>\n"
          ]
        }
      ]
    },
    {
      "cell_type": "code",
      "source": [
        "# 2. Check if the two variables are equal\n",
        "print(\"Are x1 and x2 equal?\", x1 == x2)"
      ],
      "metadata": {
        "colab": {
          "base_uri": "https://localhost:8080/"
        },
        "id": "FnIfSX_IjjKD",
        "outputId": "5f682ac1-28de-42bb-b0fe-e3c42b5278c5"
      },
      "execution_count": 13,
      "outputs": [
        {
          "output_type": "stream",
          "name": "stdout",
          "text": [
            "Are x1 and x2 equal? False\n"
          ]
        }
      ]
    },
    {
      "cell_type": "code",
      "source": [
        "# 3. Check if x1 is greater than x2\n",
        "print(\"Is x1 greater than x2?\", x1 > x2)"
      ],
      "metadata": {
        "colab": {
          "base_uri": "https://localhost:8080/"
        },
        "id": "dSZmA-rWkNKM",
        "outputId": "a9344b3f-cfab-4ba0-de72-c401b918022b"
      },
      "execution_count": 14,
      "outputs": [
        {
          "output_type": "stream",
          "name": "stdout",
          "text": [
            "Is x1 greater than x2? True\n"
          ]
        }
      ]
    },
    {
      "cell_type": "code",
      "source": [
        "# 4. Check if x2 is greater than x1\n",
        "print(\"Is x2 greater than x1?\", x2 > x1)"
      ],
      "metadata": {
        "colab": {
          "base_uri": "https://localhost:8080/"
        },
        "id": "kPVA_vMkkSlY",
        "outputId": "ac78c54b-48d2-4807-d96d-d716a3c23a3c"
      },
      "execution_count": 15,
      "outputs": [
        {
          "output_type": "stream",
          "name": "stdout",
          "text": [
            "Is x2 greater than x1? False\n"
          ]
        }
      ]
    },
    {
      "cell_type": "code",
      "source": [
        "# 5. Check if x1 is not equal to x2\n",
        "print(\"Are x1 and x2 not equal?\", x1 != x2)"
      ],
      "metadata": {
        "colab": {
          "base_uri": "https://localhost:8080/"
        },
        "id": "7P37YpvtkaUd",
        "outputId": "4d0e2440-10ab-4797-af8d-56adbe73d7b8"
      },
      "execution_count": 16,
      "outputs": [
        {
          "output_type": "stream",
          "name": "stdout",
          "text": [
            "Are x1 and x2 not equal? True\n"
          ]
        }
      ]
    },
    {
      "cell_type": "code",
      "source": [
        "# 6. Store the difference between the two variables in x3 (subtract smaller from larger)\n",
        "if x1 > x2:\n",
        "    x3 = x1 - x2\n",
        "else:\n",
        "    x3 = x2 - x1\n",
        "print(\"Difference (x3):\", x3)"
      ],
      "metadata": {
        "colab": {
          "base_uri": "https://localhost:8080/"
        },
        "id": "eLtx18hboWD6",
        "outputId": "b3523bd2-ec29-4db4-e10f-e056f9ec0af7"
      },
      "execution_count": 17,
      "outputs": [
        {
          "output_type": "stream",
          "name": "stdout",
          "text": [
            "Difference (x3): 3\n"
          ]
        }
      ]
    },
    {
      "cell_type": "code",
      "source": [
        "# 7. Increment the smaller variable by the difference using shorthand addition operator\n",
        "if x1 < x2:\n",
        "    x1 += x3\n",
        "else:\n",
        "    x2 += x3\n",
        "\n",
        "# 8. Check if x1 and x2 are now equal\n",
        "print(\"Are x1 and x2 equal after increment?\", x1 == x2)"
      ],
      "metadata": {
        "colab": {
          "base_uri": "https://localhost:8080/"
        },
        "id": "7lS6ZsNZox7O",
        "outputId": "d49dbced-8da9-4a65-9860-6b1a810237eb"
      },
      "execution_count": 20,
      "outputs": [
        {
          "output_type": "stream",
          "name": "stdout",
          "text": [
            "Are x1 and x2 equal after increment? True\n"
          ]
        }
      ]
    }
  ]
}